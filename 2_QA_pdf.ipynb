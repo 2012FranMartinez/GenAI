{
 "cells": [
  {
   "cell_type": "code",
   "execution_count": null,
   "metadata": {},
   "outputs": [],
   "source": [
    "\n",
    "import os\n",
    "from dotenv import load_dotenv, find_dotenv\n",
    "_ = load_dotenv(find_dotenv())\n",
    "openai_api_key = os.environ[\"OPENAI_API_KEY\"]"
   ]
  },
  {
   "cell_type": "code",
   "execution_count": 2,
   "metadata": {},
   "outputs": [],
   "source": [
    "from langchain_openai import ChatOpenAI\n",
    "\n",
    "llm = ChatOpenAI(model=\"gpt-4o-mini\")"
   ]
  },
  {
   "cell_type": "code",
   "execution_count": 3,
   "metadata": {},
   "outputs": [
    {
     "name": "stdout",
     "output_type": "stream",
     "text": [
      "3\n"
     ]
    }
   ],
   "source": [
    "from langchain_community.document_loaders import PyPDFLoader\n",
    "\n",
    "file_path = \"docs/CV_Arktic_D.F.S..pdf\"\n",
    "\n",
    "loader = PyPDFLoader(file_path)\n",
    "\n",
    "docs = loader.load()\n",
    "\n",
    "print(len(docs))"
   ]
  },
  {
   "cell_type": "code",
   "execution_count": 18,
   "metadata": {},
   "outputs": [
    {
     "name": "stdout",
     "output_type": "stream",
     "text": [
      "EXPERIENCIA PROFESIONAL \n",
      "DevOps Openshift Engineer \n",
      "Consulting | Dic 2024 – Currently \n",
      " \n",
      "- Actualmen\n"
     ]
    }
   ],
   "source": [
    "\n",
    "print(docs[0].page_content[0:100])\n",
    "#print(docs[0].metadata)"
   ]
  },
  {
   "cell_type": "code",
   "execution_count": 12,
   "metadata": {},
   "outputs": [],
   "source": [
    "from langchain.vectorstores import FAISS\n",
    "from langchain_openai import OpenAIEmbeddings\n",
    "from langchain_text_splitters import RecursiveCharacterTextSplitter\n",
    "\n",
    "text_splitter = RecursiveCharacterTextSplitter(chunk_size=1000, chunk_overlap=200)\n",
    "\n",
    "splits = text_splitter.split_documents(docs)\n",
    "\n",
    "vectorstore = FAISS.from_documents(documents=splits, embedding=OpenAIEmbeddings())\n",
    "\n",
    "retriever = vectorstore.as_retriever()"
   ]
  },
  {
   "cell_type": "code",
   "execution_count": null,
   "metadata": {},
   "outputs": [
    {
     "data": {
      "text/plain": [
       "'El candidato tiene más experiencia en la administración y arquitectura de OpenShift, destacando su rol como DevOps OpenShift Engineer y OpenShift Architect & Administrator. Ha trabajado en el diseño de arquitecturas para escalado automático y resiliencia, además de implementar soluciones en la nube de AWS para optimizar el rendimiento y la disponibilidad de servicios telefónicos. También cuenta con habilidades en contenedores, CI/CD, Docker, Kubernetes, y herramientas como Terraform y GitOps.'"
      ]
     },
     "execution_count": 14,
     "metadata": {},
     "output_type": "execute_result"
    }
   ],
   "source": [
    "from langchain.chains import create_retrieval_chain\n",
    "from langchain.chains.combine_documents import create_stuff_documents_chain\n",
    "from langchain_core.prompts import ChatPromptTemplate\n",
    "\n",
    "system_prompt = (\n",
    "    \"\"\"You are an assistant for question-answering tasks.\n",
    "    You are a technical expert in personnel selection.\n",
    "    Use the following pieces of retrieved context to answer \n",
    "    the question. If you don't know the answer, say that you \n",
    "    don't know. Use three sentences maximum and keep the \n",
    "    answer concise.\n",
    "    \\n\\n\n",
    "    {context}\"\"\"\n",
    ")\n",
    "\n",
    "prompt = ChatPromptTemplate.from_messages(\n",
    "    [\n",
    "        (\"system\", system_prompt),\n",
    "        (\"human\", \"{input}\"),\n",
    "    ]\n",
    ")\n",
    "\n",
    "question_answer_chain = create_stuff_documents_chain(llm, prompt)\n",
    "\n",
    "rag_chain = create_retrieval_chain(retriever, question_answer_chain)"
   ]
  },
  {
   "cell_type": "code",
   "execution_count": null,
   "metadata": {},
   "outputs": [
    {
     "data": {
      "text/plain": [
       "'El currículum destaca una sólida experiencia en la administración y arquitectura de OpenShift, así como en el diseño de infraestructuras escalables y resilientes. Hay una fuerte competencia en herramientas de DevOps, incluyendo Docker, Kubernetes y AWS, y se ha demostrado iniciativa en la implementación de soluciones de escalado automático. También se menciona la mejora de la calidad y disponibilidad de servicios telefónicos internacionales, lo que sugiere una capacidad para optimizar tanto sistemas como procesos.'"
      ]
     },
     "execution_count": 15,
     "metadata": {},
     "output_type": "execute_result"
    }
   ],
   "source": [
    "results = rag_chain.invoke({\"input\": \"Give me a summary in Spanish, explaining what you have more experience in this curriculum.\"})\n",
    "\n",
    "results[\"answer\"]\n"
   ]
  },
  {
   "cell_type": "code",
   "execution_count": 16,
   "metadata": {},
   "outputs": [
    {
     "data": {
      "text/plain": [
       "\"The retrieved context does not provide any information regarding knowledge of Java. Therefore, I don't know if he knows Java.\""
      ]
     },
     "execution_count": 16,
     "metadata": {},
     "output_type": "execute_result"
    }
   ],
   "source": [
    "results = rag_chain.invoke({\"input\": \"Does he know java?\"})\n",
    "\n",
    "results[\"answer\"]\n"
   ]
  },
  {
   "cell_type": "code",
   "execution_count": 17,
   "metadata": {},
   "outputs": [
    {
     "data": {
      "text/plain": [
       "'Yes, he has experience as a DevOps Openshift Engineer and has worked with AWS for managing capacity overflow, indicating expertise in cloud solutions. Additionally, he holds several Red Hat certifications related to OpenShift, further demonstrating his cloud proficiency.'"
      ]
     },
     "execution_count": 17,
     "metadata": {},
     "output_type": "execute_result"
    }
   ],
   "source": [
    "results = rag_chain.invoke({\"input\": \"Is he the cloud expert?\"})\n",
    "\n",
    "results[\"answer\"]"
   ]
  }
 ],
 "metadata": {
  "kernelspec": {
   "display_name": "venv_ia",
   "language": "python",
   "name": "python3"
  },
  "language_info": {
   "codemirror_mode": {
    "name": "ipython",
    "version": 3
   },
   "file_extension": ".py",
   "mimetype": "text/x-python",
   "name": "python",
   "nbconvert_exporter": "python",
   "pygments_lexer": "ipython3",
   "version": "3.12.9"
  }
 },
 "nbformat": 4,
 "nbformat_minor": 2
}
